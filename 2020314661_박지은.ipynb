{
  "cells": [
    {
      "cell_type": "code",
      "execution_count": 2,
      "metadata": {
        "colab": {
          "base_uri": "https://localhost:8080/"
        },
        "id": "SkBEpdMeSbEe",
        "outputId": "5c5446a9-cfac-4df9-ccee-8fec9c776c79"
      },
      "outputs": [
        {
          "data": {
            "text/plain": [
              "True"
            ]
          },
          "execution_count": 2,
          "metadata": {},
          "output_type": "execute_result"
        }
      ],
      "source": [
        "def isHappy(n):\n",
        "  N_lst = list(n)\n",
        "  checked = set()\n",
        "  while True:\n",
        "    sum = 0\n",
        "    for i in N_lst:\n",
        "      sum+=int(i)**2\n",
        "    if(sum == 1):\n",
        "      return True\n",
        "      break\n",
        "    elif(sum in checked):\n",
        "      return False\n",
        "      break\n",
        "    else:\n",
        "      checked.add(sum)\n",
        "      N_lst = list(str(sum))\n",
        "\n",
        "isHappy(input())\n",
        "\n",
        "\n",
        "\n",
        "\n",
        "\n"
      ]
    },
    {
      "cell_type": "markdown",
      "metadata": {
        "id": "50aeJU8OTIc6"
      },
      "source": []
    }
  ],
  "metadata": {
    "accelerator": "GPU",
    "colab": {
      "gpuType": "T4",
      "provenance": []
    },
    "kernelspec": {
      "display_name": "Python 3",
      "name": "python3"
    },
    "language_info": {
      "codemirror_mode": {
        "name": "ipython",
        "version": 3
      },
      "file_extension": ".py",
      "mimetype": "text/x-python",
      "name": "python",
      "nbconvert_exporter": "python",
      "pygments_lexer": "ipython3",
      "version": "3.12.1"
    }
  },
  "nbformat": 4,
  "nbformat_minor": 0
}
